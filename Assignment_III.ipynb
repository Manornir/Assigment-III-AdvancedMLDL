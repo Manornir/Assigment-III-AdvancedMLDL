{
  "nbformat": 4,
  "nbformat_minor": 0,
  "metadata": {
    "colab": {
      "provenance": [],
      "machine_shape": "hm"
    },
    "kernelspec": {
      "name": "python3",
      "display_name": "Python 3"
    },
    "language_info": {
      "name": "python"
    },
    "gpuClass": "standard",
    "accelerator": "GPU"
  },
  "cells": [
    {
      "cell_type": "markdown",
      "source": [
        "# Assigment III\n",
        "\n",
        "Samer Abufoul \\\n",
        "Manor Nir"
      ],
      "metadata": {
        "id": "h1nRaWJoK-US"
      }
    },
    {
      "cell_type": "markdown",
      "source": [
        "### Importing required libraries"
      ],
      "metadata": {
        "id": "d1sZSV8JswNk"
      }
    },
    {
      "cell_type": "code",
      "execution_count": 177,
      "metadata": {
        "id": "SDbnkx9gsna4"
      },
      "outputs": [],
      "source": [
        "import numpy as np\n",
        "import pandas as pd\n",
        "import matplotlib.pyplot as plt\n",
        "import re\n",
        "import nltk\n",
        "import seaborn as sns\n",
        "import tensorflow as tf\n",
        "from sklearn.model_selection import train_test_split\n",
        "from sklearn.feature_extraction.text import TfidfVectorizer\n",
        "from sklearn.linear_model import LogisticRegression\n",
        "from sklearn.metrics import classification_report, accuracy_score, roc_auc_score, roc_curve, plot_confusion_matrix, confusion_matrix, ConfusionMatrixDisplay \n",
        "from keras.models import Sequential\n",
        "from keras.layers import Dropout, Conv1D, Flatten, Dense, Embedding, SpatialDropout1D,  MaxPooling1D, GlobalMaxPooling1D\n",
        "from keras.preprocessing import sequence\n",
        "from tensorflow.keras.preprocessing.text import Tokenizer \n",
        "from nltk.stem import PorterStemmer \n"
      ]
    },
    {
      "cell_type": "code",
      "source": [
        "train_df = pd.read_csv('https://github.com/odedovadia/AdvancedMLDLCourse/blob/main/Assignments/Assignment%20III/train.csv?raw=true')\n",
        "test_df = pd.read_csv('https://github.com/odedovadia/AdvancedMLDLCourse/blob/main/Assignments/Assignment%20III/test.csv?raw=true')"
      ],
      "metadata": {
        "id": "0en_9Aens7PP"
      },
      "execution_count": 178,
      "outputs": []
    },
    {
      "cell_type": "code",
      "source": [
        "tf.random.set_seed(75)"
      ],
      "metadata": {
        "id": "NP-DxZrXzSsx"
      },
      "execution_count": 179,
      "outputs": []
    },
    {
      "cell_type": "markdown",
      "source": [
        "## Exploring the data"
      ],
      "metadata": {
        "id": "DU2XR7AZuLQP"
      }
    },
    {
      "cell_type": "code",
      "source": [
        "train_df.head()"
      ],
      "metadata": {
        "colab": {
          "base_uri": "https://localhost:8080/",
          "height": 206
        },
        "id": "oCxkvN-Xui1q",
        "outputId": "74466bf9-d4a8-4375-a860-3460ffd3c145"
      },
      "execution_count": 180,
      "outputs": [
        {
          "output_type": "execute_result",
          "data": {
            "text/plain": [
              "                                            Dialogue Character  \\\n",
              "0                                               Hey.      joey   \n",
              "1   (to Joey) Are you gonna be embarrassed going ...    phoebe   \n",
              "2  Me? No no no, you. You're gonna tell him. I'm ...    elaine   \n",
              "3   Alright you guys are off to party number one ...  chandler   \n",
              "4  Am I? Or am I so sane that you just blew your ...    kramer   \n",
              "\n",
              "                                             Episode      Show  \\\n",
              "0     Season-07 Episode-13-The One Where Rosita Dies   Friends   \n",
              "1         Season-10 Episode-04-The One With The Cake   Friends   \n",
              "2                                             S03E22  Seinfeld   \n",
              "3  Season-02 Episode-22-The One With the Two Parties   Friends   \n",
              "4                                             S05E12  Seinfeld   \n",
              "\n",
              "   Dialogue_length  \n",
              "0                1  \n",
              "1               13  \n",
              "2               14  \n",
              "3               56  \n",
              "4               13  "
            ],
            "text/html": [
              "\n",
              "  <div id=\"df-b5003c96-bb23-4561-9349-ed3f6bb330d1\">\n",
              "    <div class=\"colab-df-container\">\n",
              "      <div>\n",
              "<style scoped>\n",
              "    .dataframe tbody tr th:only-of-type {\n",
              "        vertical-align: middle;\n",
              "    }\n",
              "\n",
              "    .dataframe tbody tr th {\n",
              "        vertical-align: top;\n",
              "    }\n",
              "\n",
              "    .dataframe thead th {\n",
              "        text-align: right;\n",
              "    }\n",
              "</style>\n",
              "<table border=\"1\" class=\"dataframe\">\n",
              "  <thead>\n",
              "    <tr style=\"text-align: right;\">\n",
              "      <th></th>\n",
              "      <th>Dialogue</th>\n",
              "      <th>Character</th>\n",
              "      <th>Episode</th>\n",
              "      <th>Show</th>\n",
              "      <th>Dialogue_length</th>\n",
              "    </tr>\n",
              "  </thead>\n",
              "  <tbody>\n",
              "    <tr>\n",
              "      <th>0</th>\n",
              "      <td>Hey.</td>\n",
              "      <td>joey</td>\n",
              "      <td>Season-07 Episode-13-The One Where Rosita Dies</td>\n",
              "      <td>Friends</td>\n",
              "      <td>1</td>\n",
              "    </tr>\n",
              "    <tr>\n",
              "      <th>1</th>\n",
              "      <td>(to Joey) Are you gonna be embarrassed going ...</td>\n",
              "      <td>phoebe</td>\n",
              "      <td>Season-10 Episode-04-The One With The Cake</td>\n",
              "      <td>Friends</td>\n",
              "      <td>13</td>\n",
              "    </tr>\n",
              "    <tr>\n",
              "      <th>2</th>\n",
              "      <td>Me? No no no, you. You're gonna tell him. I'm ...</td>\n",
              "      <td>elaine</td>\n",
              "      <td>S03E22</td>\n",
              "      <td>Seinfeld</td>\n",
              "      <td>14</td>\n",
              "    </tr>\n",
              "    <tr>\n",
              "      <th>3</th>\n",
              "      <td>Alright you guys are off to party number one ...</td>\n",
              "      <td>chandler</td>\n",
              "      <td>Season-02 Episode-22-The One With the Two Parties</td>\n",
              "      <td>Friends</td>\n",
              "      <td>56</td>\n",
              "    </tr>\n",
              "    <tr>\n",
              "      <th>4</th>\n",
              "      <td>Am I? Or am I so sane that you just blew your ...</td>\n",
              "      <td>kramer</td>\n",
              "      <td>S05E12</td>\n",
              "      <td>Seinfeld</td>\n",
              "      <td>13</td>\n",
              "    </tr>\n",
              "  </tbody>\n",
              "</table>\n",
              "</div>\n",
              "      <button class=\"colab-df-convert\" onclick=\"convertToInteractive('df-b5003c96-bb23-4561-9349-ed3f6bb330d1')\"\n",
              "              title=\"Convert this dataframe to an interactive table.\"\n",
              "              style=\"display:none;\">\n",
              "        \n",
              "  <svg xmlns=\"http://www.w3.org/2000/svg\" height=\"24px\"viewBox=\"0 0 24 24\"\n",
              "       width=\"24px\">\n",
              "    <path d=\"M0 0h24v24H0V0z\" fill=\"none\"/>\n",
              "    <path d=\"M18.56 5.44l.94 2.06.94-2.06 2.06-.94-2.06-.94-.94-2.06-.94 2.06-2.06.94zm-11 1L8.5 8.5l.94-2.06 2.06-.94-2.06-.94L8.5 2.5l-.94 2.06-2.06.94zm10 10l.94 2.06.94-2.06 2.06-.94-2.06-.94-.94-2.06-.94 2.06-2.06.94z\"/><path d=\"M17.41 7.96l-1.37-1.37c-.4-.4-.92-.59-1.43-.59-.52 0-1.04.2-1.43.59L10.3 9.45l-7.72 7.72c-.78.78-.78 2.05 0 2.83L4 21.41c.39.39.9.59 1.41.59.51 0 1.02-.2 1.41-.59l7.78-7.78 2.81-2.81c.8-.78.8-2.07 0-2.86zM5.41 20L4 18.59l7.72-7.72 1.47 1.35L5.41 20z\"/>\n",
              "  </svg>\n",
              "      </button>\n",
              "      \n",
              "  <style>\n",
              "    .colab-df-container {\n",
              "      display:flex;\n",
              "      flex-wrap:wrap;\n",
              "      gap: 12px;\n",
              "    }\n",
              "\n",
              "    .colab-df-convert {\n",
              "      background-color: #E8F0FE;\n",
              "      border: none;\n",
              "      border-radius: 50%;\n",
              "      cursor: pointer;\n",
              "      display: none;\n",
              "      fill: #1967D2;\n",
              "      height: 32px;\n",
              "      padding: 0 0 0 0;\n",
              "      width: 32px;\n",
              "    }\n",
              "\n",
              "    .colab-df-convert:hover {\n",
              "      background-color: #E2EBFA;\n",
              "      box-shadow: 0px 1px 2px rgba(60, 64, 67, 0.3), 0px 1px 3px 1px rgba(60, 64, 67, 0.15);\n",
              "      fill: #174EA6;\n",
              "    }\n",
              "\n",
              "    [theme=dark] .colab-df-convert {\n",
              "      background-color: #3B4455;\n",
              "      fill: #D2E3FC;\n",
              "    }\n",
              "\n",
              "    [theme=dark] .colab-df-convert:hover {\n",
              "      background-color: #434B5C;\n",
              "      box-shadow: 0px 1px 3px 1px rgba(0, 0, 0, 0.15);\n",
              "      filter: drop-shadow(0px 1px 2px rgba(0, 0, 0, 0.3));\n",
              "      fill: #FFFFFF;\n",
              "    }\n",
              "  </style>\n",
              "\n",
              "      <script>\n",
              "        const buttonEl =\n",
              "          document.querySelector('#df-b5003c96-bb23-4561-9349-ed3f6bb330d1 button.colab-df-convert');\n",
              "        buttonEl.style.display =\n",
              "          google.colab.kernel.accessAllowed ? 'block' : 'none';\n",
              "\n",
              "        async function convertToInteractive(key) {\n",
              "          const element = document.querySelector('#df-b5003c96-bb23-4561-9349-ed3f6bb330d1');\n",
              "          const dataTable =\n",
              "            await google.colab.kernel.invokeFunction('convertToInteractive',\n",
              "                                                     [key], {});\n",
              "          if (!dataTable) return;\n",
              "\n",
              "          const docLinkHtml = 'Like what you see? Visit the ' +\n",
              "            '<a target=\"_blank\" href=https://colab.research.google.com/notebooks/data_table.ipynb>data table notebook</a>'\n",
              "            + ' to learn more about interactive tables.';\n",
              "          element.innerHTML = '';\n",
              "          dataTable['output_type'] = 'display_data';\n",
              "          await google.colab.output.renderOutput(dataTable, element);\n",
              "          const docLink = document.createElement('div');\n",
              "          docLink.innerHTML = docLinkHtml;\n",
              "          element.appendChild(docLink);\n",
              "        }\n",
              "      </script>\n",
              "    </div>\n",
              "  </div>\n",
              "  "
            ]
          },
          "metadata": {},
          "execution_count": 180
        }
      ]
    },
    {
      "cell_type": "markdown",
      "source": [
        "Checking the number of values for every class:"
      ],
      "metadata": {
        "id": "gj4Eaf1p481n"
      }
    },
    {
      "cell_type": "code",
      "source": [
        "train_df[\"Show\"].value_counts().plot(kind=\"bar\")"
      ],
      "metadata": {
        "colab": {
          "base_uri": "https://localhost:8080/",
          "height": 314
        },
        "id": "An7OQ_W6x8bV",
        "outputId": "301ddafe-6942-442f-db40-ed1b56993090"
      },
      "execution_count": 181,
      "outputs": [
        {
          "output_type": "execute_result",
          "data": {
            "text/plain": [
              "<matplotlib.axes._subplots.AxesSubplot at 0x7efeb3f587f0>"
            ]
          },
          "metadata": {},
          "execution_count": 181
        },
        {
          "output_type": "display_data",
          "data": {
            "text/plain": [
              "<Figure size 432x288 with 1 Axes>"
            ],
            "image/png": "[encoded data removed]"
          },
          "metadata": {
            "needs_background": "light"
          }
        }
      ]
    },
    {
      "cell_type": "markdown",
      "source": [
        "Exploring the length of every dialogue:"
      ],
      "metadata": {
        "id": "Jw4GKGc74xBf"
      }
    },
    {
      "cell_type": "code",
      "source": [
        "sns.histplot(train_df['Dialogue_length'])"
      ],
      "metadata": {
        "colab": {
          "base_uri": "https://localhost:8080/",
          "height": 298
        },
        "id": "P3tk1V5uCUCk",
        "outputId": "c7c31315-0c48-4ce4-d130-974b30a80eac"
      },
      "execution_count": 182,
      "outputs": [
        {
          "output_type": "execute_result",
          "data": {
            "text/plain": [
              "<matplotlib.axes._subplots.AxesSubplot at 0x7efeb4272490>"
            ]
          },
          "metadata": {},
          "execution_count": 182
        },
        {
          "output_type": "display_data",
          "data": {
            "text/plain": [
              "<Figure size 432x288 with 1 Axes>"
            ],
            "image/png": "[encoded data removed]"
          },
          "metadata": {
            "needs_background": "light"
          }
        }
      ]
    },
    {
      "cell_type": "markdown",
      "source": [
        "Maximum, Minimum and mean of dialogues length:"
      ],
      "metadata": {
        "id": "6OU8q27x5MyO"
      }
    },
    {
      "cell_type": "code",
      "source": [
        "max(train_df['Dialogue_length']), min(train_df['Dialogue_length']), np.mean(train_df['Dialogue_length'])"
      ],
      "metadata": {
        "colab": {
          "base_uri": "https://localhost:8080/"
        },
        "id": "QvAVkeFrDB6S",
        "outputId": "6dd4b458-079d-41dc-9a8f-498b0b17703e"
      },
      "execution_count": 183,
      "outputs": [
        {
          "output_type": "execute_result",
          "data": {
            "text/plain": [
              "(363, 1, 11.002130530502095)"
            ]
          },
          "metadata": {},
          "execution_count": 183
        }
      ]
    },
    {
      "cell_type": "markdown",
      "source": [
        "Distribution of \"Character\" feature:"
      ],
      "metadata": {
        "id": "CKNjT1G35bSj"
      }
    },
    {
      "cell_type": "code",
      "source": [
        "train_df[\"Character\"].value_counts().plot(kind=\"bar\")"
      ],
      "metadata": {
        "colab": {
          "base_uri": "https://localhost:8080/",
          "height": 317
        },
        "id": "22_vnrdXG28_",
        "outputId": "ada3d596-33d6-4e24-e801-b1d907fa0582"
      },
      "execution_count": 184,
      "outputs": [
        {
          "output_type": "execute_result",
          "data": {
            "text/plain": [
              "<matplotlib.axes._subplots.AxesSubplot at 0x7efeb425d8b0>"
            ]
          },
          "metadata": {},
          "execution_count": 184
        },
        {
          "output_type": "display_data",
          "data": {
            "text/plain": [
              "<Figure size 432x288 with 1 Axes>"
            ],
            "image/png": "[encoded data removed]"
          },
          "metadata": {
            "needs_background": "light"
          }
        }
      ]
    },
    {
      "cell_type": "markdown",
      "source": [
        "Number of samples in training and test sets"
      ],
      "metadata": {
        "id": "LnWyDFY05n7x"
      }
    },
    {
      "cell_type": "code",
      "source": [
        "train_df.shape"
      ],
      "metadata": {
        "colab": {
          "base_uri": "https://localhost:8080/"
        },
        "id": "l_0CWMXQHrNC",
        "outputId": "6ac05932-9a14-48af-a347-db763b4fe358"
      },
      "execution_count": 185,
      "outputs": [
        {
          "output_type": "execute_result",
          "data": {
            "text/plain": [
              "(70405, 5)"
            ]
          },
          "metadata": {},
          "execution_count": 185
        }
      ]
    },
    {
      "cell_type": "code",
      "source": [
        "test_df.shape"
      ],
      "metadata": {
        "colab": {
          "base_uri": "https://localhost:8080/"
        },
        "id": "uGi2XK2rHuX6",
        "outputId": "6c49783b-9b83-4cfa-f980-a56e98c76a2e"
      },
      "execution_count": 186,
      "outputs": [
        {
          "output_type": "execute_result",
          "data": {
            "text/plain": [
              "(4245, 5)"
            ]
          },
          "metadata": {},
          "execution_count": 186
        }
      ]
    },
    {
      "cell_type": "markdown",
      "source": [
        "## Data preprocessing"
      ],
      "metadata": {
        "id": "aIhPJLP86WJM"
      }
    },
    {
      "cell_type": "markdown",
      "source": [
        "We tried to remove special characters and stop words, but doing so reduced the model's accuracy - we decided not to do so"
      ],
      "metadata": {
        "id": "x_bQTtc4Nv2U"
      }
    },
    {
      "cell_type": "code",
      "source": [
        "from nltk.tokenize.toktok import ToktokTokenizer\n",
        "tokenizer = ToktokTokenizer()\n",
        "nltk.download('stopwords')\n",
        "stopword_list = nltk.corpus.stopwords.words('english')"
      ],
      "metadata": {
        "colab": {
          "base_uri": "https://localhost:8080/"
        },
        "outputId": "4b930bf9-00de-4724-8953-1d9f42607fed",
        "id": "KANY1YXrVsIx"
      },
      "execution_count": 187,
      "outputs": [
        {
          "output_type": "stream",
          "name": "stderr",
          "text": [
            "[nltk_data] Downloading package stopwords to /root/nltk_data...\n",
            "[nltk_data]   Package stopwords is already up-to-date!\n"
          ]
        }
      ]
    },
    {
      "cell_type": "code",
      "source": [
        "# def remove_special_characters(text):\n",
        "#     pattern = r'[^a-zA-Z0-9\\s]'\n",
        "#     text = re.sub(pattern,'',text)\n",
        "#     return text"
      ],
      "metadata": {
        "id": "EkytkYvN-QUH"
      },
      "execution_count": 188,
      "outputs": []
    },
    {
      "cell_type": "code",
      "source": [
        "# def preprocessing(text):\n",
        "#   text = remove_special_characters(text)\n",
        "#   text = text.lower()\n",
        "#   tokens = tokenizer.tokenize(text)\n",
        "#   filtered_tokens = [token for token in tokens if token not in stopword_list]\n",
        "#   filtered_text = ' '.join(filtered_tokens) \n",
        "#   return filtered_text"
      ],
      "metadata": {
        "id": "DGZtYm2d-9_j"
      },
      "execution_count": 189,
      "outputs": []
    },
    {
      "cell_type": "code",
      "source": [
        "# train_df['Dialogue'] = train_df['Dialogue'].apply(lambda x: preprocessing(x))"
      ],
      "metadata": {
        "id": "LZCSknjLADxO"
      },
      "execution_count": 190,
      "outputs": []
    },
    {
      "cell_type": "code",
      "source": [
        "# test_df['Dialogue'] = test_df['Dialogue'].apply(lambda x: preprocessing(x))"
      ],
      "metadata": {
        "id": "2UNLi830QYtn"
      },
      "execution_count": 191,
      "outputs": []
    },
    {
      "cell_type": "markdown",
      "source": [
        "We decided not to use stemming since it reduced our model's accuracy"
      ],
      "metadata": {
        "id": "nSD6CpdhWs_s"
      }
    },
    {
      "cell_type": "code",
      "source": [
        "# stemmer = PorterStemmer()\n",
        "# def stem_words(text):\n",
        "#     return \" \".join([stemmer.stem(word) for word in text.split()])"
      ],
      "metadata": {
        "id": "sys-x0B_yiel"
      },
      "execution_count": 192,
      "outputs": []
    },
    {
      "cell_type": "code",
      "source": [
        "# train_df['Dialogue'] = train_df['Dialogue'].apply(lambda x: stem_words(x))"
      ],
      "metadata": {
        "id": "x9DkvGgty3rx"
      },
      "execution_count": 193,
      "outputs": []
    },
    {
      "cell_type": "code",
      "source": [
        "# test_df['Dialogue'] = test_df['Dialogue'].apply(lambda x: stem_words(x))"
      ],
      "metadata": {
        "id": "pkZOX4uwy9EL"
      },
      "execution_count": 194,
      "outputs": []
    },
    {
      "cell_type": "markdown",
      "source": [
        "Converting 'Show' labels (Friends and Seinfeld) to classes 1 and 0 respectively:"
      ],
      "metadata": {
        "id": "BOj0Ew_9VYFJ"
      }
    },
    {
      "cell_type": "code",
      "source": [
        "train_df['Show'] = train_df['Show'].map({'Friends':1,'Seinfeld':0})"
      ],
      "metadata": {
        "id": "ZUyHDLpkT4SR"
      },
      "execution_count": 195,
      "outputs": []
    },
    {
      "cell_type": "code",
      "source": [
        "test_df['Show'] = test_df['Show'].map({'Friends':1,'Seinfeld':0})"
      ],
      "metadata": {
        "id": "T3uTwSfzT4lG"
      },
      "execution_count": 196,
      "outputs": []
    },
    {
      "cell_type": "markdown",
      "source": [
        "###Splitting train data into validation and train"
      ],
      "metadata": {
        "id": "6c0E-RASISqa"
      }
    },
    {
      "cell_type": "code",
      "source": [
        "X = train_df['Dialogue']\n",
        "Y = train_df['Show']"
      ],
      "metadata": {
        "id": "mqV_LWeKJ4eq"
      },
      "execution_count": 197,
      "outputs": []
    },
    {
      "cell_type": "code",
      "source": [
        "x_train, x_val, y_train, y_val = train_test_split(X, Y, test_size=0.1, random_state=75)"
      ],
      "metadata": {
        "id": "MmozU82eKDbQ"
      },
      "execution_count": 198,
      "outputs": []
    },
    {
      "cell_type": "code",
      "source": [
        "X_test = test_df['Dialogue']\n",
        "Y_test = test_df['Show']"
      ],
      "metadata": {
        "id": "OzQFlLjAQoxZ"
      },
      "execution_count": 199,
      "outputs": []
    },
    {
      "cell_type": "markdown",
      "source": [
        " ## Logisitc regression<br>\n",
        " ### (not for submission)"
      ],
      "metadata": {
        "id": "0MxDDDZBHJtQ"
      }
    },
    {
      "cell_type": "markdown",
      "source": [
        "We tried to run Logistic regression model but the results were poor"
      ],
      "metadata": {
        "id": "mLFfZa5exgZi"
      }
    },
    {
      "cell_type": "markdown",
      "source": [
        "TF-IDF Vectorizer"
      ],
      "metadata": {
        "id": "5cjZiVd2DnzC"
      }
    },
    {
      "cell_type": "code",
      "source": [
        "# tfidf = TfidfVectorizer(\n",
        "#     analyzer='word')  \n",
        "# x_train_tv = tfidf.fit_transform(x_train)"
      ],
      "metadata": {
        "id": "siG6ZaClDneq"
      },
      "execution_count": 200,
      "outputs": []
    },
    {
      "cell_type": "code",
      "source": [
        "# x_test_tv = X_test.copy()\n",
        "# x_test_tv = tfidf.transform(x_test_tv)"
      ],
      "metadata": {
        "id": "jP6FOdBcQ5rh"
      },
      "execution_count": 201,
      "outputs": []
    },
    {
      "cell_type": "code",
      "source": [
        "# lr_tfidf = LogisticRegression(penalty='l2', max_iter=500, random_state=42)\n",
        "# lr_tfidf.fit(x_train_tv, y_train.ravel())"
      ],
      "metadata": {
        "id": "E2ApgqxwOzM-"
      },
      "execution_count": 202,
      "outputs": []
    },
    {
      "cell_type": "code",
      "source": [
        "# def evaluate(model, model_name, x, y):\n",
        "#   y_pred = model.predict(x)\n",
        "#   y_pred_proba = model.predict_proba(x)[:, 1] \n",
        "\n",
        "#   AUC = roc_auc_score(y, y_pred_proba)\n",
        "#   Accuracy =  accuracy_score(y, y_pred)\n",
        "#   print(model_name)\n",
        "#   print(\"Auc score is:\",AUC)\n",
        "#   print(\"Accuracy score is:\",Accuracy)"
      ],
      "metadata": {
        "id": "aOrpvqi9SIvu"
      },
      "execution_count": 203,
      "outputs": []
    },
    {
      "cell_type": "code",
      "source": [
        "# evaluate(lr_tfidf, 'logistic regression training set', x_train_tv, y_train)"
      ],
      "metadata": {
        "id": "8AV-YebDS1-2"
      },
      "execution_count": 204,
      "outputs": []
    },
    {
      "cell_type": "code",
      "source": [
        "# evaluate(lr_tfidf, 'logistic regression training set', x_test_tv, Y_test)"
      ],
      "metadata": {
        "id": "N6SVxkrGTnQ2"
      },
      "execution_count": 205,
      "outputs": []
    },
    {
      "cell_type": "markdown",
      "source": [
        "## Building a Deep Learning model"
      ],
      "metadata": {
        "id": "whi40h2OpTUP"
      }
    },
    {
      "cell_type": "code",
      "source": [
        "x_train_dl = x_train.copy()\n",
        "x_val_dl = x_val.copy()\n",
        "x_test_dl = X_test.copy()"
      ],
      "metadata": {
        "id": "L3aCJ3xfyYui"
      },
      "execution_count": 206,
      "outputs": []
    },
    {
      "cell_type": "code",
      "source": [
        "token = Tokenizer(lower=False)\n",
        "token.fit_on_texts(x_train)"
      ],
      "metadata": {
        "id": "-e3T74S2IpKP"
      },
      "execution_count": 207,
      "outputs": []
    },
    {
      "cell_type": "markdown",
      "source": [
        "Convert to sequences:"
      ],
      "metadata": {
        "id": "UuZBLgMQcvDn"
      }
    },
    {
      "cell_type": "code",
      "source": [
        "x_train_dl = token.texts_to_sequences(x_train_dl)\n",
        "x_val_dl = token.texts_to_sequences(x_val_dl)\n",
        "x_test_dl = token.texts_to_sequences(x_test_dl)"
      ],
      "metadata": {
        "id": "A8QAo4kdJC4M"
      },
      "execution_count": 208,
      "outputs": []
    },
    {
      "cell_type": "markdown",
      "metadata": {
        "id": "_8RkUYqCYNFh"
      },
      "source": [
        "Calculate document lengths:"
      ]
    },
    {
      "cell_type": "code",
      "source": [
        "doc_len_list = [len(doc) for doc in x_train_dl]"
      ],
      "metadata": {
        "id": "HDgzboTjd1fH"
      },
      "execution_count": 209,
      "outputs": []
    },
    {
      "cell_type": "markdown",
      "metadata": {
        "id": "63b06BQVYRh_"
      },
      "source": [
        "Longest, shortest, and average document:"
      ]
    },
    {
      "cell_type": "code",
      "source": [
        "max(doc_len_list), min(doc_len_list), np.mean(doc_len_list)"
      ],
      "metadata": {
        "colab": {
          "base_uri": "https://localhost:8080/"
        },
        "id": "PefTWKK0eQDZ",
        "outputId": "024af765-1119-419b-c169-1816eca6be7b"
      },
      "execution_count": 210,
      "outputs": [
        {
          "output_type": "execute_result",
          "data": {
            "text/plain": [
              "(295, 0, 11.09906255918187)"
            ]
          },
          "metadata": {},
          "execution_count": 210
        }
      ]
    },
    {
      "cell_type": "markdown",
      "metadata": {
        "id": "yBMjk6ixYuFP"
      },
      "source": [
        "Let's examine the distribution:"
      ]
    },
    {
      "cell_type": "code",
      "source": [
        "sns.histplot(doc_len_list)"
      ],
      "metadata": {
        "colab": {
          "base_uri": "https://localhost:8080/",
          "height": 283
        },
        "id": "2VAwWk26eeg_",
        "outputId": "69edcfe4-9478-4411-925a-c1b2da64cd6b"
      },
      "execution_count": 211,
      "outputs": [
        {
          "output_type": "execute_result",
          "data": {
            "text/plain": [
              "<matplotlib.axes._subplots.AxesSubplot at 0x7efeb4f83a60>"
            ]
          },
          "metadata": {},
          "execution_count": 211
        },
        {
          "output_type": "display_data",
          "data": {
            "text/plain": [
              "<Figure size 432x288 with 1 Axes>"
            ],
            "image/png": "[encoded data removed]"
          },
          "metadata": {
            "needs_background": "light"
          }
        }
      ]
    },
    {
      "cell_type": "markdown",
      "source": [
        "Making sure that all sequences have the same length. As the distribution shows, We put 50 as shared value:"
      ],
      "metadata": {
        "id": "2uMgUNgqdF-K"
      }
    },
    {
      "cell_type": "code",
      "source": [
        "max_words = 50\n",
        "\n",
        "x_train_dl = tf.keras.preprocessing.sequence.pad_sequences(x_train_dl, maxlen=max_words)\n",
        "x_val_dl = tf.keras.preprocessing.sequence.pad_sequences(x_val_dl, maxlen=max_words)\n",
        "x_test_dl = tf.keras.preprocessing.sequence.pad_sequences(x_test_dl, maxlen=max_words)"
      ],
      "metadata": {
        "id": "lr-4CN5pIvrv"
      },
      "execution_count": 212,
      "outputs": []
    },
    {
      "cell_type": "code",
      "source": [
        "total_words = len(token.word_index) + 1 \n",
        "total_words"
      ],
      "metadata": {
        "colab": {
          "base_uri": "https://localhost:8080/"
        },
        "id": "WlRMkiX-JQ0A",
        "outputId": "cf807985-f8cd-4250-c25e-606c53abb8c2"
      },
      "execution_count": 213,
      "outputs": [
        {
          "output_type": "execute_result",
          "data": {
            "text/plain": [
              "26469"
            ]
          },
          "metadata": {},
          "execution_count": 213
        }
      ]
    },
    {
      "cell_type": "code",
      "source": [
        "x_test_dl[9]"
      ],
      "metadata": {
        "colab": {
          "base_uri": "https://localhost:8080/"
        },
        "id": "h0TvDlBC8cDq",
        "outputId": "6bc851ec-4254-4190-8e59-a8f4c69b8d55"
      },
      "execution_count": 214,
      "outputs": [
        {
          "output_type": "execute_result",
          "data": {
            "text/plain": [
              "array([   0,    0,    0,    0,    0,    0,    0,    0,    0,    0,    0,\n",
              "          0,    0,    0,    0,    0,    0,    0,    0,    0,    0,    0,\n",
              "          0,    0,    0,    0,    0,    0,    0,    0,    4,  634,  208,\n",
              "       4878,    1,  483,    7,    4, 2531,   56,   39,  386,   43,  243,\n",
              "          1, 6352,   45, 4520,  306, 6534], dtype=int32)"
            ]
          },
          "metadata": {},
          "execution_count": 214
        }
      ]
    },
    {
      "cell_type": "code",
      "source": [
        "model = Sequential()\n",
        "model.add(Embedding(input_dim=total_words, output_dim=32, input_length=max_words))\n",
        "model.add(Conv1D(8, 3, padding='same', activation='relu'))\n",
        "model.add(Flatten())\n",
        "model.add(Dense(64, activation='relu'))\n",
        "model.add(Dropout(0.5))\n",
        "model.add(Dense(1, activation='sigmoid'))\n",
        "model.compile(loss='binary_crossentropy', optimizer='adam', metrics=['accuracy'])\n",
        "model.summary()"
      ],
      "metadata": {
        "colab": {
          "base_uri": "https://localhost:8080/"
        },
        "id": "fvdJ2-JH8Fu5",
        "outputId": "f80ffc3b-8d81-4cbe-fe54-a7784a8ba60f"
      },
      "execution_count": 215,
      "outputs": [
        {
          "output_type": "stream",
          "name": "stdout",
          "text": [
            "Model: \"sequential_3\"\n",
            "_________________________________________________________________\n",
            " Layer (type)                Output Shape              Param #   \n",
            "=================================================================\n",
            " embedding_3 (Embedding)     (None, 50, 32)            847008    \n",
            "                                                                 \n",
            " conv1d_3 (Conv1D)           (None, 50, 8)             776       \n",
            "                                                                 \n",
            " flatten_3 (Flatten)         (None, 400)               0         \n",
            "                                                                 \n",
            " dense_6 (Dense)             (None, 64)                25664     \n",
            "                                                                 \n",
            " dropout_3 (Dropout)         (None, 64)                0         \n",
            "                                                                 \n",
            " dense_7 (Dense)             (None, 1)                 65        \n",
            "                                                                 \n",
            "=================================================================\n",
            "Total params: 873,513\n",
            "Trainable params: 873,513\n",
            "Non-trainable params: 0\n",
            "_________________________________________________________________\n"
          ]
        }
      ]
    },
    {
      "cell_type": "code",
      "source": [
        "model.fit(x_train_dl, y_train, validation_data=(x_val_dl, y_val), epochs=5, batch_size=64)"
      ],
      "metadata": {
        "colab": {
          "base_uri": "https://localhost:8080/"
        },
        "id": "SqK7BEAC8Vr6",
        "outputId": "1b674302-05b3-4051-ef73-d8a40a53181d"
      },
      "execution_count": 216,
      "outputs": [
        {
          "output_type": "stream",
          "name": "stdout",
          "text": [
            "Epoch 1/5\n",
            "991/991 [==============================] - 5s 4ms/step - loss: 0.5103 - accuracy: 0.7151 - val_loss: 0.4250 - val_accuracy: 0.7837\n",
            "Epoch 2/5\n",
            "991/991 [==============================] - 4s 4ms/step - loss: 0.3676 - accuracy: 0.8193 - val_loss: 0.4223 - val_accuracy: 0.7867\n",
            "Epoch 3/5\n",
            "991/991 [==============================] - 5s 5ms/step - loss: 0.3007 - accuracy: 0.8543 - val_loss: 0.4535 - val_accuracy: 0.7843\n",
            "Epoch 4/5\n",
            "991/991 [==============================] - 4s 4ms/step - loss: 0.2545 - accuracy: 0.8767 - val_loss: 0.4919 - val_accuracy: 0.7807\n",
            "Epoch 5/5\n",
            "991/991 [==============================] - 4s 4ms/step - loss: 0.2230 - accuracy: 0.8915 - val_loss: 0.5755 - val_accuracy: 0.7780\n"
          ]
        },
        {
          "output_type": "execute_result",
          "data": {
            "text/plain": [
              "<keras.callbacks.History at 0x7efe68b9e0d0>"
            ]
          },
          "metadata": {},
          "execution_count": 216
        }
      ]
    },
    {
      "cell_type": "code",
      "source": [
        "acc_train_ann = model.evaluate(x_train_dl,y_train)\n",
        "print('The accuracy on the train set:',acc_train_ann[1])"
      ],
      "metadata": {
        "colab": {
          "base_uri": "https://localhost:8080/"
        },
        "id": "GEaVgtHoPbN_",
        "outputId": "fac3b996-1144-4128-fd75-e9d6688a2021"
      },
      "execution_count": 217,
      "outputs": [
        {
          "output_type": "stream",
          "name": "stdout",
          "text": [
            "1981/1981 [==============================] - 5s 2ms/step - loss: 0.1816 - accuracy: 0.9155\n",
            "The accuracy on the train set: 0.9155356287956238\n"
          ]
        }
      ]
    },
    {
      "cell_type": "code",
      "source": [
        "acc_test_ann = model.evaluate(x_test_dl,Y_test)\n",
        "print('The accuracy on the test set:',acc_test_ann[1])"
      ],
      "metadata": {
        "colab": {
          "base_uri": "https://localhost:8080/"
        },
        "id": "7svPP7o-OlbM",
        "outputId": "6ffcb2b1-0548-4e13-fbf0-15acc4aee787"
      },
      "execution_count": 218,
      "outputs": [
        {
          "output_type": "stream",
          "name": "stdout",
          "text": [
            "133/133 [==============================] - 0s 2ms/step - loss: 0.5432 - accuracy: 0.8631\n",
            "The accuracy on the test set: 0.8631330728530884\n"
          ]
        }
      ]
    },
    {
      "cell_type": "markdown",
      "source": [
        "## Analysis of results"
      ],
      "metadata": {
        "id": "U-3KRncK2vBy"
      }
    },
    {
      "cell_type": "code",
      "source": [
        "test_df1 = test_df.copy()\n",
        "test_df1.head()"
      ],
      "metadata": {
        "colab": {
          "base_uri": "https://localhost:8080/",
          "height": 206
        },
        "id": "wD_YQynR3TGS",
        "outputId": "81660b9e-c70a-4f80-99e4-cc000748d6ab"
      },
      "execution_count": 219,
      "outputs": [
        {
          "output_type": "execute_result",
          "data": {
            "text/plain": [
              "                                            Dialogue Character  \\\n",
              "0   Oh my God, that's great! I'm smart!! No, no, ...      joey   \n",
              "1   Listen, I’m sure that dad doesn’t care. He pr...    monica   \n",
              "2  Well I am. Couldn't you try to go through some...    george   \n",
              "3  Yes I am. We had a verbal contract. If we can'...    kramer   \n",
              "4   Um, I straightened out your shower curtain so...    monica   \n",
              "\n",
              "                                             Episode  Show  Dialogue_length  \n",
              "0  Season-10 Episode-05-The One Where Rachel's Si...     1               30  \n",
              "1  Season-07 Episode-03-The One With Phoebe’s Coo...     1               20  \n",
              "2                                             S09E16     0               18  \n",
              "3                                             S07E13     0               20  \n",
              "4  Season-02 Episode-18-The One Where Dr. Remore ...     1               17  "
            ],
            "text/html": [
              "\n",
              "  <div id=\"df-01bf323d-0676-41f9-8cea-0e6de7df4ad4\">\n",
              "    <div class=\"colab-df-container\">\n",
              "      <div>\n",
              "<style scoped>\n",
              "    .dataframe tbody tr th:only-of-type {\n",
              "        vertical-align: middle;\n",
              "    }\n",
              "\n",
              "    .dataframe tbody tr th {\n",
              "        vertical-align: top;\n",
              "    }\n",
              "\n",
              "    .dataframe thead th {\n",
              "        text-align: right;\n",
              "    }\n",
              "</style>\n",
              "<table border=\"1\" class=\"dataframe\">\n",
              "  <thead>\n",
              "    <tr style=\"text-align: right;\">\n",
              "      <th></th>\n",
              "      <th>Dialogue</th>\n",
              "      <th>Character</th>\n",
              "      <th>Episode</th>\n",
              "      <th>Show</th>\n",
              "      <th>Dialogue_length</th>\n",
              "    </tr>\n",
              "  </thead>\n",
              "  <tbody>\n",
              "    <tr>\n",
              "      <th>0</th>\n",
              "      <td>Oh my God, that's great! I'm smart!! No, no, ...</td>\n",
              "      <td>joey</td>\n",
              "      <td>Season-10 Episode-05-The One Where Rachel's Si...</td>\n",
              "      <td>1</td>\n",
              "      <td>30</td>\n",
              "    </tr>\n",
              "    <tr>\n",
              "      <th>1</th>\n",
              "      <td>Listen, I’m sure that dad doesn’t care. He pr...</td>\n",
              "      <td>monica</td>\n",
              "      <td>Season-07 Episode-03-The One With Phoebe’s Coo...</td>\n",
              "      <td>1</td>\n",
              "      <td>20</td>\n",
              "    </tr>\n",
              "    <tr>\n",
              "      <th>2</th>\n",
              "      <td>Well I am. Couldn't you try to go through some...</td>\n",
              "      <td>george</td>\n",
              "      <td>S09E16</td>\n",
              "      <td>0</td>\n",
              "      <td>18</td>\n",
              "    </tr>\n",
              "    <tr>\n",
              "      <th>3</th>\n",
              "      <td>Yes I am. We had a verbal contract. If we can'...</td>\n",
              "      <td>kramer</td>\n",
              "      <td>S07E13</td>\n",
              "      <td>0</td>\n",
              "      <td>20</td>\n",
              "    </tr>\n",
              "    <tr>\n",
              "      <th>4</th>\n",
              "      <td>Um, I straightened out your shower curtain so...</td>\n",
              "      <td>monica</td>\n",
              "      <td>Season-02 Episode-18-The One Where Dr. Remore ...</td>\n",
              "      <td>1</td>\n",
              "      <td>17</td>\n",
              "    </tr>\n",
              "  </tbody>\n",
              "</table>\n",
              "</div>\n",
              "      <button class=\"colab-df-convert\" onclick=\"convertToInteractive('df-01bf323d-0676-41f9-8cea-0e6de7df4ad4')\"\n",
              "              title=\"Convert this dataframe to an interactive table.\"\n",
              "              style=\"display:none;\">\n",
              "        \n",
              "  <svg xmlns=\"http://www.w3.org/2000/svg\" height=\"24px\"viewBox=\"0 0 24 24\"\n",
              "       width=\"24px\">\n",
              "    <path d=\"M0 0h24v24H0V0z\" fill=\"none\"/>\n",
              "    <path d=\"M18.56 5.44l.94 2.06.94-2.06 2.06-.94-2.06-.94-.94-2.06-.94 2.06-2.06.94zm-11 1L8.5 8.5l.94-2.06 2.06-.94-2.06-.94L8.5 2.5l-.94 2.06-2.06.94zm10 10l.94 2.06.94-2.06 2.06-.94-2.06-.94-.94-2.06-.94 2.06-2.06.94z\"/><path d=\"M17.41 7.96l-1.37-1.37c-.4-.4-.92-.59-1.43-.59-.52 0-1.04.2-1.43.59L10.3 9.45l-7.72 7.72c-.78.78-.78 2.05 0 2.83L4 21.41c.39.39.9.59 1.41.59.51 0 1.02-.2 1.41-.59l7.78-7.78 2.81-2.81c.8-.78.8-2.07 0-2.86zM5.41 20L4 18.59l7.72-7.72 1.47 1.35L5.41 20z\"/>\n",
              "  </svg>\n",
              "      </button>\n",
              "      \n",
              "  <style>\n",
              "    .colab-df-container {\n",
              "      display:flex;\n",
              "      flex-wrap:wrap;\n",
              "      gap: 12px;\n",
              "    }\n",
              "\n",
              "    .colab-df-convert {\n",
              "      background-color: #E8F0FE;\n",
              "      border: none;\n",
              "      border-radius: 50%;\n",
              "      cursor: pointer;\n",
              "      display: none;\n",
              "      fill: #1967D2;\n",
              "      height: 32px;\n",
              "      padding: 0 0 0 0;\n",
              "      width: 32px;\n",
              "    }\n",
              "\n",
              "    .colab-df-convert:hover {\n",
              "      background-color: #E2EBFA;\n",
              "      box-shadow: 0px 1px 2px rgba(60, 64, 67, 0.3), 0px 1px 3px 1px rgba(60, 64, 67, 0.15);\n",
              "      fill: #174EA6;\n",
              "    }\n",
              "\n",
              "    [theme=dark] .colab-df-convert {\n",
              "      background-color: #3B4455;\n",
              "      fill: #D2E3FC;\n",
              "    }\n",
              "\n",
              "    [theme=dark] .colab-df-convert:hover {\n",
              "      background-color: #434B5C;\n",
              "      box-shadow: 0px 1px 3px 1px rgba(0, 0, 0, 0.15);\n",
              "      filter: drop-shadow(0px 1px 2px rgba(0, 0, 0, 0.3));\n",
              "      fill: #FFFFFF;\n",
              "    }\n",
              "  </style>\n",
              "\n",
              "      <script>\n",
              "        const buttonEl =\n",
              "          document.querySelector('#df-01bf323d-0676-41f9-8cea-0e6de7df4ad4 button.colab-df-convert');\n",
              "        buttonEl.style.display =\n",
              "          google.colab.kernel.accessAllowed ? 'block' : 'none';\n",
              "\n",
              "        async function convertToInteractive(key) {\n",
              "          const element = document.querySelector('#df-01bf323d-0676-41f9-8cea-0e6de7df4ad4');\n",
              "          const dataTable =\n",
              "            await google.colab.kernel.invokeFunction('convertToInteractive',\n",
              "                                                     [key], {});\n",
              "          if (!dataTable) return;\n",
              "\n",
              "          const docLinkHtml = 'Like what you see? Visit the ' +\n",
              "            '<a target=\"_blank\" href=https://colab.research.google.com/notebooks/data_table.ipynb>data table notebook</a>'\n",
              "            + ' to learn more about interactive tables.';\n",
              "          element.innerHTML = '';\n",
              "          dataTable['output_type'] = 'display_data';\n",
              "          await google.colab.output.renderOutput(dataTable, element);\n",
              "          const docLink = document.createElement('div');\n",
              "          docLink.innerHTML = docLinkHtml;\n",
              "          element.appendChild(docLink);\n",
              "        }\n",
              "      </script>\n",
              "    </div>\n",
              "  </div>\n",
              "  "
            ]
          },
          "metadata": {},
          "execution_count": 219
        }
      ]
    },
    {
      "cell_type": "code",
      "source": [
        "test_df1[\"Character\"] = test_df1[\"Character\"].astype(\"category\")"
      ],
      "metadata": {
        "id": "53I-Rw3i3nqw"
      },
      "execution_count": 220,
      "outputs": []
    },
    {
      "cell_type": "code",
      "source": [
        "characters = test_df1[\"Character\"].cat.categories"
      ],
      "metadata": {
        "id": "_dvrRXH532g5"
      },
      "execution_count": 221,
      "outputs": []
    },
    {
      "cell_type": "markdown",
      "source": [
        "####Confusion matrices for each character in both shows:"
      ],
      "metadata": {
        "id": "vmh23pPTbjBO"
      }
    },
    {
      "cell_type": "code",
      "source": [
        "for char in characters:\n",
        "  df_char = test_df1.loc[test_df1[\"Character\"] == char].copy()\n",
        "  df_char['Dialogue'] = token.texts_to_sequences(df_char['Dialogue'])\n",
        "  x_char = tf.keras.preprocessing.sequence.pad_sequences(df_char['Dialogue'], maxlen=max_words)\n",
        "  y_char = df_char['Show']\n",
        "  y_predict = model.predict(x_char).round()\n",
        "\n",
        "  cm= confusion_matrix(y_char, y_predict)\n",
        "  print('confusion matrix for '+char)\n",
        "  disp = ConfusionMatrixDisplay(confusion_matrix=cm, display_labels=['Seinfeld','Friends'])\n",
        "  disp.plot(cmap=plt.cm.Reds)\n",
        "  plt.show()"
      ],
      "metadata": {
        "colab": {
          "base_uri": "https://localhost:8080/",
          "height": 1000
        },
        "id": "OEyG3suK6h6h",
        "outputId": "fd5fc1d6-22d0-4402-cb85-616ed35e111f"
      },
      "execution_count": 222,
      "outputs": [
        {
          "output_type": "stream",
          "name": "stdout",
          "text": [
            "13/13 [==============================] - 0s 2ms/step\n",
            "confusion matrix for chandler\n"
          ]
        },
        {
          "output_type": "display_data",
          "data": {
            "text/plain": [
              "<Figure size 432x288 with 2 Axes>"
            ],
            "image/png": "[encoded data removed]"
          },
          "metadata": {
            "needs_background": "light"
          }
        },
        {
          "output_type": "stream",
          "name": "stdout",
          "text": [
            "10/10 [==============================] - 0s 2ms/step\n",
            "confusion matrix for elaine\n"
          ]
        },
        {
          "output_type": "display_data",
          "data": {
            "text/plain": [
              "<Figure size 432x288 with 2 Axes>"
            ],
            "image/png": "[encoded data removed]"
          },
          "metadata": {
            "needs_background": "light"
          }
        },
        {
          "output_type": "stream",
          "name": "stdout",
          "text": [
            "15/15 [==============================] - 0s 2ms/step\n",
            "confusion matrix for george\n"
          ]
        },
        {
          "output_type": "display_data",
          "data": {
            "text/plain": [
              "<Figure size 432x288 with 2 Axes>"
            ],
            "image/png": "[encoded data removed]"
          },
          "metadata": {
            "needs_background": "light"
          }
        },
        {
          "output_type": "stream",
          "name": "stdout",
          "text": [
            "19/19 [==============================] - 0s 2ms/step\n",
            "confusion matrix for jerry\n"
          ]
        },
        {
          "output_type": "display_data",
          "data": {
            "text/plain": [
              "<Figure size 432x288 with 2 Axes>"
            ],
            "image/png": "[encoded data removed]"
          },
          "metadata": {
            "needs_background": "light"
          }
        },
        {
          "output_type": "stream",
          "name": "stdout",
          "text": [
            "15/15 [==============================] - 0s 2ms/step\n",
            "confusion matrix for joey\n"
          ]
        },
        {
          "output_type": "display_data",
          "data": {
            "text/plain": [
              "<Figure size 432x288 with 2 Axes>"
            ],
            "image/png": "[encoded data removed]"
          },
          "metadata": {
            "needs_background": "light"
          }
        },
        {
          "output_type": "stream",
          "name": "stdout",
          "text": [
            "10/10 [==============================] - 0s 2ms/step\n",
            "confusion matrix for kramer\n"
          ]
        },
        {
          "output_type": "display_data",
          "data": {
            "text/plain": [
              "<Figure size 432x288 with 2 Axes>"
            ],
            "image/png": "[encoded data removed]"
          },
          "metadata": {
            "needs_background": "light"
          }
        },
        {
          "output_type": "stream",
          "name": "stdout",
          "text": [
            "12/12 [==============================] - 0s 2ms/step\n",
            "confusion matrix for monica\n"
          ]
        },
        {
          "output_type": "display_data",
          "data": {
            "text/plain": [
              "<Figure size 432x288 with 2 Axes>"
            ],
            "image/png": "[encoded data removed]"
          },
          "metadata": {
            "needs_background": "light"
          }
        },
        {
          "output_type": "stream",
          "name": "stdout",
          "text": [
            "13/13 [==============================] - 0s 2ms/step\n",
            "confusion matrix for phoebe\n"
          ]
        },
        {
          "output_type": "display_data",
          "data": {
            "text/plain": [
              "<Figure size 432x288 with 2 Axes>"
            ],
            "image/png": "[encoded data removed]"
          },
          "metadata": {
            "needs_background": "light"
          }
        },
        {
          "output_type": "stream",
          "name": "stdout",
          "text": [
            "15/15 [==============================] - 0s 2ms/step\n",
            "confusion matrix for rachel\n"
          ]
        },
        {
          "output_type": "display_data",
          "data": {
            "text/plain": [
              "<Figure size 432x288 with 2 Axes>"
            ],
            "image/png": "[encoded data removed]"
          },
          "metadata": {
            "needs_background": "light"
          }
        },
        {
          "output_type": "stream",
          "name": "stdout",
          "text": [
            "15/15 [==============================] - 0s 2ms/step\n",
            "confusion matrix for ross\n"
          ]
        },
        {
          "output_type": "display_data",
          "data": {
            "text/plain": [
              "<Figure size 432x288 with 2 Axes>"
            ],
            "image/png": "[encoded data removed]"
          },
          "metadata": {
            "needs_background": "light"
          }
        }
      ]
    },
    {
      "cell_type": "code",
      "source": [
        "results = {'model': ['ANN model'],\n",
        "           'Test score (Accuracy)': [0.8653],\n",
        "           'Train score (Accuracy)': [0.9166],\n",
        "           'Number of trainable parameters': ['873,513'],\n",
        "           'Number of layers': [6],\n",
        "           'Regularization methods': ['Dropout'],\n",
        "           'Number of epochs': [5],\n",
        "           'Loss function': ['binary_crossentropy'],\n",
        "           'Optimizer': ['adam'],\n",
        "           'Embedding': [32]\n",
        "           }\n",
        "results_df = pd.DataFrame(results)\n",
        "import os\n",
        "results_df.to_csv(os.path.join(os.getcwd(), 'exercise3.csv'))"
      ],
      "metadata": {
        "id": "KhV3mF54J3Gd"
      },
      "execution_count": 223,
      "outputs": []
    }
  ]
}